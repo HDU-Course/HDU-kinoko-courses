{
 "cells": [
  {
   "cell_type": "markdown",
   "metadata": {},
   "source": [
    "## <font color=blue> Lec3 TCP --- Client</font>   \n",
    "-----------------------------------------------------------"
   ]
  },
  {
   "cell_type": "markdown",
   "metadata": {},
   "source": [
    "#### TCP Socket: Client"
   ]
  },
  {
   "cell_type": "code",
   "execution_count": 2,
   "metadata": {},
   "outputs": [],
   "source": [
    "import socket\n",
    "import datetime"
   ]
  },
  {
   "cell_type": "code",
   "execution_count": 2,
   "metadata": {},
   "outputs": [],
   "source": [
    "host = '127.0.0.1'\n",
    "port = 1060"
   ]
  },
  {
   "cell_type": "code",
   "execution_count": 30,
   "metadata": {},
   "outputs": [],
   "source": [
    "host = '192.168.163.131'\n",
    "port = 5151"
   ]
  },
  {
   "cell_type": "code",
   "execution_count": 3,
   "metadata": {},
   "outputs": [],
   "source": [
    "sock = socket.socket(socket.AF_INET, socket.SOCK_STREAM)"
   ]
  },
  {
   "cell_type": "code",
   "execution_count": 47,
   "metadata": {},
   "outputs": [],
   "source": [
    "sock.connect((host, port))"
   ]
  },
  {
   "cell_type": "code",
   "execution_count": 48,
   "metadata": {},
   "outputs": [
    {
     "name": "stdout",
     "output_type": "stream",
     "text": [
      "Client has been assigned socket name ('127.0.0.1', 25163)\n"
     ]
    }
   ],
   "source": [
    "print('Client has been assigned socket name', sock.getsockname())"
   ]
  },
  {
   "cell_type": "code",
   "execution_count": 52,
   "metadata": {},
   "outputs": [
    {
     "data": {
      "text/plain": [
       "5"
      ]
     },
     "execution_count": 52,
     "metadata": {},
     "output_type": "execute_result"
    }
   ],
   "source": [
    "sock.send(b'hello')"
   ]
  },
  {
   "cell_type": "code",
   "execution_count": 13,
   "metadata": {},
   "outputs": [
    {
     "data": {
      "text/plain": [
       "5"
      ]
     },
     "execution_count": 13,
     "metadata": {},
     "output_type": "execute_result"
    }
   ],
   "source": [
    "sock.send(b'world')"
   ]
  },
  {
   "cell_type": "code",
   "execution_count": 34,
   "metadata": {},
   "outputs": [],
   "source": [
    "sock.close()"
   ]
  },
  {
   "cell_type": "markdown",
   "metadata": {},
   "source": [
    "#### sock tools"
   ]
  },
  {
   "cell_type": "code",
   "execution_count": 3,
   "metadata": {},
   "outputs": [],
   "source": [
    "#####################################################\n",
    "# 常用的socket 读写函数\n",
    "def sock_readline(sock):\n",
    "    line = b''\n",
    "    data = b''\n",
    "    while (data != b'\\n'):\n",
    "        data = sock.recv(1)\n",
    "        if (data == b''):\n",
    "            break\n",
    "        line += data\n",
    "    return line\n",
    "\n",
    "def sock_readn(sock, length):\n",
    "    data = b''\n",
    "    while len(data) < length:\n",
    "        more = sock.recv(length - len(data))\n",
    "        if not more:\n",
    "            return data\n",
    "        data += more\n",
    "    return data\n",
    "\n",
    "def sock_writeline(sock, data):\n",
    "    sock.send(data)\n",
    "    sock.send(b'\\n')\n",
    "\n",
    "def sock_writen(sock, data, length):\n",
    "    if (len(data) > length):\n",
    "        sock.send(data[0:length])\n",
    "    else:\n",
    "        sock.send(data)\n",
    "\n",
    "def sock_write(sock, data):\n",
    "    sock.send(data)\n",
    "\n",
    "############################################################\n",
    "# 提供带buffer缓存的sock读写函数，减少socket函数调用次数，提高效率\n",
    "\n",
    "def sock_buf_readline(sock, data_buf=b''):\n",
    "    data_list = []\n",
    "    index = -1\n",
    "    data = b''\n",
    "    if (data_buf != b''):\n",
    "        data = data_buf\n",
    "        index = data.find(b'\\n')\n",
    "    \n",
    "    while (index == -1):\n",
    "        if (data != b''):\n",
    "            data_list.append(data)\n",
    "        \n",
    "        data = sock.recv(4096)\n",
    "        if (data == b''):\n",
    "            break\n",
    "        \n",
    "        index = data.find(b'\\n')\n",
    "    \n",
    "    if (data == b''):\n",
    "        return (b''.join(data_list), b'')\n",
    "    \n",
    "    data_list.append(data[0:index+1])\n",
    "    return (b''.join(data_list), data[index+1:])\n",
    "\n",
    "def sock_buf_readn(sock, length, data_buf=b''):\n",
    "    data_list = []\n",
    "    \n",
    "    data = data_buf\n",
    "    index = len(data_buf)\n",
    "    while (index < length):\n",
    "        if (data != b''):\n",
    "            data_list.append(data)\n",
    "        \n",
    "        data = sock.recv(4096)\n",
    "        if (data == b''):\n",
    "            break\n",
    "        \n",
    "        index += len(data)\n",
    "    \n",
    "    if (data == b''):\n",
    "        return (b''.join(data_list), b'')\n",
    "    \n",
    "    index = len(data) - (length - index)\n",
    "    data_list.append(data[0:index])\n",
    "    return (b''.join(data_list), data[index:])\n",
    "\n",
    "def sock_buf_read(sock, data_buf=b''):\n",
    "    if (len(data_buf) > 0):\n",
    "        return data_buf\n",
    "       \n",
    "    return sock.recv(4096)"
   ]
  },
  {
   "cell_type": "markdown",
   "metadata": {},
   "source": [
    "#### 定长消息"
   ]
  },
  {
   "cell_type": "code",
   "execution_count": 9,
   "metadata": {},
   "outputs": [],
   "source": [
    "PACKET_SIZE = 250"
   ]
  },
  {
   "cell_type": "code",
   "execution_count": 7,
   "metadata": {},
   "outputs": [],
   "source": [
    "def sendPacket(sock, data):\n",
    "    sock.sendall(data)\n",
    "    sock.sendall(b' ' * (PACKET_SIZE - len(data)))"
   ]
  },
  {
   "cell_type": "code",
   "execution_count": 8,
   "metadata": {},
   "outputs": [],
   "source": [
    "def recvPacket(sock):\n",
    "    data = sock_readn(sock, PACKET_SIZE)\n",
    "    if (len(data) != PACKET_SIZE):\n",
    "        return b''\n",
    "    data = data.rstrip()\n",
    "    return data"
   ]
  },
  {
   "cell_type": "code",
   "execution_count": 4,
   "metadata": {},
   "outputs": [],
   "source": [
    "import socket\n",
    "import datetime"
   ]
  },
  {
   "cell_type": "code",
   "execution_count": 5,
   "metadata": {},
   "outputs": [],
   "source": [
    "host = '127.0.0.1'\n",
    "port = 5151"
   ]
  },
  {
   "cell_type": "code",
   "execution_count": 6,
   "metadata": {},
   "outputs": [
    {
     "name": "stdout",
     "output_type": "stream",
     "text": [
      "Client has been assigned socket name ('127.0.0.1', 54575)\n"
     ]
    }
   ],
   "source": [
    "sock = socket.socket(socket.AF_INET, socket.SOCK_STREAM)\n",
    "sock.connect((host, port))\n",
    "print('Client has been assigned socket name', sock.getsockname())"
   ]
  },
  {
   "cell_type": "code",
   "execution_count": 10,
   "metadata": {},
   "outputs": [],
   "source": [
    "sendPacket(sock, b\"hello world\")"
   ]
  },
  {
   "cell_type": "code",
   "execution_count": 12,
   "metadata": {},
   "outputs": [
    {
     "data": {
      "text/plain": [
       "b'farewell!'"
      ]
     },
     "execution_count": 12,
     "metadata": {},
     "output_type": "execute_result"
    }
   ],
   "source": [
    "recvPacket(sock)"
   ]
  },
  {
   "cell_type": "code",
   "execution_count": 13,
   "metadata": {},
   "outputs": [],
   "source": [
    "sock.close()"
   ]
  },
  {
   "cell_type": "markdown",
   "metadata": {},
   "source": [
    "#### 长度前缀--文本长度"
   ]
  },
  {
   "cell_type": "code",
   "execution_count": 14,
   "metadata": {},
   "outputs": [],
   "source": [
    "def sendPacket(sock, data):\n",
    "    len_str = \"{:05d}\".format(len(data))\n",
    "    sock.sendall(len_str.encode(\"utf8\") + data)"
   ]
  },
  {
   "cell_type": "code",
   "execution_count": 19,
   "metadata": {},
   "outputs": [],
   "source": [
    "def recvPacket(sock):\n",
    "    data = b''\n",
    "    len_data = sock_readn(sock, 5)\n",
    "    if (len(len_data) < 5):\n",
    "        return data\n",
    "    length = int(len_data.decode(\"utf8\"))\n",
    "    data = sock_readn(sock, length)\n",
    "    return data"
   ]
  },
  {
   "cell_type": "code",
   "execution_count": 4,
   "metadata": {},
   "outputs": [],
   "source": [
    "import socket\n",
    "import datetime"
   ]
  },
  {
   "cell_type": "code",
   "execution_count": 23,
   "metadata": {},
   "outputs": [
    {
     "name": "stdout",
     "output_type": "stream",
     "text": [
      "Client has been assigned socket name ('127.0.0.1', 57794)\n"
     ]
    }
   ],
   "source": [
    "host = '127.0.0.1'\n",
    "port = 5151\n",
    "sock = socket.socket(socket.AF_INET, socket.SOCK_STREAM)\n",
    "sock.connect((host, port))\n",
    "print('Client has been assigned socket name', sock.getsockname())"
   ]
  },
  {
   "cell_type": "code",
   "execution_count": 24,
   "metadata": {},
   "outputs": [],
   "source": [
    "sendPacket(sock, b\"hello world\")"
   ]
  },
  {
   "cell_type": "code",
   "execution_count": 25,
   "metadata": {},
   "outputs": [
    {
     "data": {
      "text/plain": [
       "b'farewell!'"
      ]
     },
     "execution_count": 25,
     "metadata": {},
     "output_type": "execute_result"
    }
   ],
   "source": [
    "recvPacket(sock)"
   ]
  },
  {
   "cell_type": "code",
   "execution_count": 26,
   "metadata": {},
   "outputs": [],
   "source": [
    "sock.close()"
   ]
  },
  {
   "cell_type": "markdown",
   "metadata": {},
   "source": [
    "#### 长度前缀--二进制长度"
   ]
  },
  {
   "cell_type": "code",
   "execution_count": 28,
   "metadata": {},
   "outputs": [
    {
     "data": {
      "text/plain": [
       "'0x109d'"
      ]
     },
     "execution_count": 28,
     "metadata": {},
     "output_type": "execute_result"
    }
   ],
   "source": [
    "hex(4253)"
   ]
  },
  {
   "cell_type": "code",
   "execution_count": 27,
   "metadata": {},
   "outputs": [],
   "source": [
    "import struct"
   ]
  },
  {
   "cell_type": "code",
   "execution_count": 33,
   "metadata": {},
   "outputs": [
    {
     "data": {
      "text/plain": [
       "b'\\x9d\\x10\\x00\\x00'"
      ]
     },
     "execution_count": 33,
     "metadata": {},
     "output_type": "execute_result"
    }
   ],
   "source": [
    "#little endian\n",
    "struct.pack('<i', 4253)"
   ]
  },
  {
   "cell_type": "code",
   "execution_count": 31,
   "metadata": {},
   "outputs": [
    {
     "data": {
      "text/plain": [
       "b'\\x00\\x00\\x10\\x9d'"
      ]
     },
     "execution_count": 31,
     "metadata": {},
     "output_type": "execute_result"
    }
   ],
   "source": [
    "#big endian\n",
    "struct.pack('>i', 4253)"
   ]
  },
  {
   "cell_type": "code",
   "execution_count": 35,
   "metadata": {},
   "outputs": [
    {
     "data": {
      "text/plain": [
       "(4253,)"
      ]
     },
     "execution_count": 35,
     "metadata": {},
     "output_type": "execute_result"
    }
   ],
   "source": [
    "struct.unpack('<i', b'\\x9d\\x10\\x00\\x00')"
   ]
  },
  {
   "cell_type": "code",
   "execution_count": 36,
   "metadata": {},
   "outputs": [
    {
     "data": {
      "text/plain": [
       "(-1659895808,)"
      ]
     },
     "execution_count": 36,
     "metadata": {},
     "output_type": "execute_result"
    }
   ],
   "source": [
    "struct.unpack('>i', b'\\x9d\\x10\\x00\\x00')"
   ]
  },
  {
   "cell_type": "markdown",
   "metadata": {},
   "source": [
    "#### socket库提供了字节序转换函数 ntohl, ntohs, htonl, htons"
   ]
  },
  {
   "cell_type": "code",
   "execution_count": 38,
   "metadata": {},
   "outputs": [
    {
     "data": {
      "text/plain": [
       "b'\\x00\\x00\\x10\\x9d'"
      ]
     },
     "execution_count": 38,
     "metadata": {},
     "output_type": "execute_result"
    }
   ],
   "source": [
    "#network (= big-endian)\n",
    "struct.pack('!i', 4253)"
   ]
  },
  {
   "cell_type": "code",
   "execution_count": 4,
   "metadata": {},
   "outputs": [],
   "source": [
    "def sendPacket(sock, data):\n",
    "    sock.sendall(struct.pack('!h', len(data)) + data)"
   ]
  },
  {
   "cell_type": "code",
   "execution_count": 11,
   "metadata": {},
   "outputs": [],
   "source": [
    "def recvPacket(sock):\n",
    "    data = b''\n",
    "    len_data = sock_readn(sock, 2)\n",
    "    if (len(len_data) < 2):\n",
    "        return data\n",
    "    length, = struct.unpack('!h', len_data)\n",
    "    data = sock_readn(sock, length)\n",
    "    return data"
   ]
  },
  {
   "cell_type": "code",
   "execution_count": 9,
   "metadata": {},
   "outputs": [],
   "source": [
    "import socket\n",
    "import datetime\n",
    "import struct"
   ]
  },
  {
   "cell_type": "code",
   "execution_count": 7,
   "metadata": {},
   "outputs": [
    {
     "name": "stdout",
     "output_type": "stream",
     "text": [
      "Client has been assigned socket name ('127.0.0.1', 63814)\n"
     ]
    }
   ],
   "source": [
    "host = '127.0.0.1'\n",
    "port = 5151\n",
    "sock = socket.socket(socket.AF_INET, socket.SOCK_STREAM)\n",
    "sock.connect((host, port))\n",
    "print('Client has been assigned socket name', sock.getsockname())"
   ]
  },
  {
   "cell_type": "code",
   "execution_count": 10,
   "metadata": {},
   "outputs": [],
   "source": [
    "sendPacket(sock, b\"hello world\")"
   ]
  },
  {
   "cell_type": "code",
   "execution_count": 12,
   "metadata": {},
   "outputs": [
    {
     "data": {
      "text/plain": [
       "b'farewell!'"
      ]
     },
     "execution_count": 12,
     "metadata": {},
     "output_type": "execute_result"
    }
   ],
   "source": [
    "recvPacket(sock)"
   ]
  },
  {
   "cell_type": "code",
   "execution_count": 13,
   "metadata": {},
   "outputs": [],
   "source": [
    "sock.close()"
   ]
  },
  {
   "cell_type": "markdown",
   "metadata": {},
   "source": [
    "模式一"
   ]
  },
  {
   "cell_type": "code",
   "execution_count": 15,
   "metadata": {},
   "outputs": [],
   "source": [
    "address = (\"127.0.0.1\", 5150)"
   ]
  },
  {
   "cell_type": "code",
   "execution_count": 19,
   "metadata": {},
   "outputs": [],
   "source": [
    "sock = socket.socket(socket.AF_INET, socket.SOCK_STREAM)\n",
    "sock.connect(address)"
   ]
  },
  {
   "cell_type": "code",
   "execution_count": null,
   "metadata": {},
   "outputs": [],
   "source": [
    "sock.shutdown(socket.SHUT_RD)"
   ]
  },
  {
   "cell_type": "code",
   "execution_count": 20,
   "metadata": {},
   "outputs": [],
   "source": [
    "sock.sendall(b'Beautiful is better than ugly.\\n')\n",
    "sock.sendall(b'Explicit is better than implicit.\\n')\n",
    "sock.sendall(b'Simple is better than complex.\\n')"
   ]
  },
  {
   "cell_type": "code",
   "execution_count": 21,
   "metadata": {},
   "outputs": [],
   "source": [
    "sock.shutdown(socket.SHUT_WR)"
   ]
  },
  {
   "cell_type": "code",
   "execution_count": 18,
   "metadata": {},
   "outputs": [],
   "source": [
    "sock.close()"
   ]
  },
  {
   "cell_type": "markdown",
   "metadata": {},
   "source": [
    "#### pickle格式"
   ]
  },
  {
   "cell_type": "code",
   "execution_count": 22,
   "metadata": {},
   "outputs": [],
   "source": [
    "import pickle"
   ]
  },
  {
   "cell_type": "code",
   "execution_count": 26,
   "metadata": {},
   "outputs": [],
   "source": [
    "address = (\"127.0.0.1\", 5150)"
   ]
  },
  {
   "cell_type": "code",
   "execution_count": 27,
   "metadata": {},
   "outputs": [],
   "source": [
    "sock = socket.socket(socket.AF_INET, socket.SOCK_STREAM)\n",
    "sock.connect(address)"
   ]
  },
  {
   "cell_type": "code",
   "execution_count": 30,
   "metadata": {},
   "outputs": [],
   "source": [
    "sock.sendall(pickle.dumps([5, 6, 7]))"
   ]
  },
  {
   "cell_type": "code",
   "execution_count": 31,
   "metadata": {},
   "outputs": [],
   "source": [
    "info = {\"username\":\"zhangsan\", \"age\":\"18\", \"score\":[80, 98, 68]}\n",
    "sock.sendall(pickle.dumps(info))"
   ]
  },
  {
   "cell_type": "code",
   "execution_count": 32,
   "metadata": {},
   "outputs": [],
   "source": [
    "sock.close()"
   ]
  },
  {
   "cell_type": "code",
   "execution_count": null,
   "metadata": {},
   "outputs": [],
   "source": []
  }
 ],
 "metadata": {
  "kernelspec": {
   "display_name": "Python 3",
   "language": "python",
   "name": "python3"
  },
  "language_info": {
   "codemirror_mode": {
    "name": "ipython",
    "version": 3
   },
   "file_extension": ".py",
   "mimetype": "text/x-python",
   "name": "python",
   "nbconvert_exporter": "python",
   "pygments_lexer": "ipython3",
   "version": "3.6.4"
  }
 },
 "nbformat": 4,
 "nbformat_minor": 2
}
