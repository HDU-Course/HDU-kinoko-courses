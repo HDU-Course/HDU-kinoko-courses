{
 "cells": [
  {
   "cell_type": "markdown",
   "metadata": {},
   "source": [
    "## Ex1: 使用pygeocoder库获取地点信息"
   ]
  },
  {
   "cell_type": "code",
   "execution_count": 1,
   "metadata": {},
   "outputs": [],
   "source": [
    "from pygeocoder import Geocoder"
   ]
  },
  {
   "cell_type": "code",
   "execution_count": 2,
   "metadata": {},
   "outputs": [
    {
     "ename": "ConnectionError",
     "evalue": "HTTPSConnectionPool(host='maps.google.com', port=443): Max retries exceeded with url: /maps/api/geocode/json?address=hangzhou+dianzi+university&sensor=false&bounds=&region=&language=&components= (Caused by NewConnectionError('<urllib3.connection.VerifiedHTTPSConnection object at 0x7fd789367f10>: Failed to establish a new connection: [Errno 60] Operation timed out'))",
     "output_type": "error",
     "traceback": [
      "\u001b[0;31m---------------------------------------------------------------------------\u001b[0m",
      "\u001b[0;31mTimeoutError\u001b[0m                              Traceback (most recent call last)",
      "\u001b[0;32m~/anaconda3/envs/py37/lib/python3.7/site-packages/urllib3/connection.py\u001b[0m in \u001b[0;36m_new_conn\u001b[0;34m(self)\u001b[0m\n\u001b[1;32m    140\u001b[0m             conn = connection.create_connection(\n\u001b[0;32m--> 141\u001b[0;31m                 (self.host, self.port), self.timeout, **extra_kw)\n\u001b[0m\u001b[1;32m    142\u001b[0m \u001b[0;34m\u001b[0m\u001b[0m\n",
      "\u001b[0;32m~/anaconda3/envs/py37/lib/python3.7/site-packages/urllib3/util/connection.py\u001b[0m in \u001b[0;36mcreate_connection\u001b[0;34m(address, timeout, source_address, socket_options)\u001b[0m\n\u001b[1;32m     82\u001b[0m     \u001b[0;32mif\u001b[0m \u001b[0merr\u001b[0m \u001b[0;32mis\u001b[0m \u001b[0;32mnot\u001b[0m \u001b[0;32mNone\u001b[0m\u001b[0;34m:\u001b[0m\u001b[0;34m\u001b[0m\u001b[0;34m\u001b[0m\u001b[0m\n\u001b[0;32m---> 83\u001b[0;31m         \u001b[0;32mraise\u001b[0m \u001b[0merr\u001b[0m\u001b[0;34m\u001b[0m\u001b[0;34m\u001b[0m\u001b[0m\n\u001b[0m\u001b[1;32m     84\u001b[0m \u001b[0;34m\u001b[0m\u001b[0m\n",
      "\u001b[0;32m~/anaconda3/envs/py37/lib/python3.7/site-packages/urllib3/util/connection.py\u001b[0m in \u001b[0;36mcreate_connection\u001b[0;34m(address, timeout, source_address, socket_options)\u001b[0m\n\u001b[1;32m     72\u001b[0m                 \u001b[0msock\u001b[0m\u001b[0;34m.\u001b[0m\u001b[0mbind\u001b[0m\u001b[0;34m(\u001b[0m\u001b[0msource_address\u001b[0m\u001b[0;34m)\u001b[0m\u001b[0;34m\u001b[0m\u001b[0;34m\u001b[0m\u001b[0m\n\u001b[0;32m---> 73\u001b[0;31m             \u001b[0msock\u001b[0m\u001b[0;34m.\u001b[0m\u001b[0mconnect\u001b[0m\u001b[0;34m(\u001b[0m\u001b[0msa\u001b[0m\u001b[0;34m)\u001b[0m\u001b[0;34m\u001b[0m\u001b[0;34m\u001b[0m\u001b[0m\n\u001b[0m\u001b[1;32m     74\u001b[0m             \u001b[0;32mreturn\u001b[0m \u001b[0msock\u001b[0m\u001b[0;34m\u001b[0m\u001b[0;34m\u001b[0m\u001b[0m\n",
      "\u001b[0;31mTimeoutError\u001b[0m: [Errno 60] Operation timed out",
      "\nDuring handling of the above exception, another exception occurred:\n",
      "\u001b[0;31mNewConnectionError\u001b[0m                        Traceback (most recent call last)",
      "\u001b[0;32m~/anaconda3/envs/py37/lib/python3.7/site-packages/urllib3/connectionpool.py\u001b[0m in \u001b[0;36murlopen\u001b[0;34m(self, method, url, body, headers, retries, redirect, assert_same_host, timeout, pool_timeout, release_conn, chunked, body_pos, **response_kw)\u001b[0m\n\u001b[1;32m    600\u001b[0m                                                   \u001b[0mbody\u001b[0m\u001b[0;34m=\u001b[0m\u001b[0mbody\u001b[0m\u001b[0;34m,\u001b[0m \u001b[0mheaders\u001b[0m\u001b[0;34m=\u001b[0m\u001b[0mheaders\u001b[0m\u001b[0;34m,\u001b[0m\u001b[0;34m\u001b[0m\u001b[0;34m\u001b[0m\u001b[0m\n\u001b[0;32m--> 601\u001b[0;31m                                                   chunked=chunked)\n\u001b[0m\u001b[1;32m    602\u001b[0m \u001b[0;34m\u001b[0m\u001b[0m\n",
      "\u001b[0;32m~/anaconda3/envs/py37/lib/python3.7/site-packages/urllib3/connectionpool.py\u001b[0m in \u001b[0;36m_make_request\u001b[0;34m(self, conn, method, url, timeout, chunked, **httplib_request_kw)\u001b[0m\n\u001b[1;32m    345\u001b[0m         \u001b[0;32mtry\u001b[0m\u001b[0;34m:\u001b[0m\u001b[0;34m\u001b[0m\u001b[0;34m\u001b[0m\u001b[0m\n\u001b[0;32m--> 346\u001b[0;31m             \u001b[0mself\u001b[0m\u001b[0;34m.\u001b[0m\u001b[0m_validate_conn\u001b[0m\u001b[0;34m(\u001b[0m\u001b[0mconn\u001b[0m\u001b[0;34m)\u001b[0m\u001b[0;34m\u001b[0m\u001b[0;34m\u001b[0m\u001b[0m\n\u001b[0m\u001b[1;32m    347\u001b[0m         \u001b[0;32mexcept\u001b[0m \u001b[0;34m(\u001b[0m\u001b[0mSocketTimeout\u001b[0m\u001b[0;34m,\u001b[0m \u001b[0mBaseSSLError\u001b[0m\u001b[0;34m)\u001b[0m \u001b[0;32mas\u001b[0m \u001b[0me\u001b[0m\u001b[0;34m:\u001b[0m\u001b[0;34m\u001b[0m\u001b[0;34m\u001b[0m\u001b[0m\n",
      "\u001b[0;32m~/anaconda3/envs/py37/lib/python3.7/site-packages/urllib3/connectionpool.py\u001b[0m in \u001b[0;36m_validate_conn\u001b[0;34m(self, conn)\u001b[0m\n\u001b[1;32m    849\u001b[0m         \u001b[0;32mif\u001b[0m \u001b[0;32mnot\u001b[0m \u001b[0mgetattr\u001b[0m\u001b[0;34m(\u001b[0m\u001b[0mconn\u001b[0m\u001b[0;34m,\u001b[0m \u001b[0;34m'sock'\u001b[0m\u001b[0;34m,\u001b[0m \u001b[0;32mNone\u001b[0m\u001b[0;34m)\u001b[0m\u001b[0;34m:\u001b[0m  \u001b[0;31m# AppEngine might not have  `.sock`\u001b[0m\u001b[0;34m\u001b[0m\u001b[0;34m\u001b[0m\u001b[0m\n\u001b[0;32m--> 850\u001b[0;31m             \u001b[0mconn\u001b[0m\u001b[0;34m.\u001b[0m\u001b[0mconnect\u001b[0m\u001b[0;34m(\u001b[0m\u001b[0;34m)\u001b[0m\u001b[0;34m\u001b[0m\u001b[0;34m\u001b[0m\u001b[0m\n\u001b[0m\u001b[1;32m    851\u001b[0m \u001b[0;34m\u001b[0m\u001b[0m\n",
      "\u001b[0;32m~/anaconda3/envs/py37/lib/python3.7/site-packages/urllib3/connection.py\u001b[0m in \u001b[0;36mconnect\u001b[0;34m(self)\u001b[0m\n\u001b[1;32m    283\u001b[0m         \u001b[0;31m# Add certificate verification\u001b[0m\u001b[0;34m\u001b[0m\u001b[0;34m\u001b[0m\u001b[0;34m\u001b[0m\u001b[0m\n\u001b[0;32m--> 284\u001b[0;31m         \u001b[0mconn\u001b[0m \u001b[0;34m=\u001b[0m \u001b[0mself\u001b[0m\u001b[0;34m.\u001b[0m\u001b[0m_new_conn\u001b[0m\u001b[0;34m(\u001b[0m\u001b[0;34m)\u001b[0m\u001b[0;34m\u001b[0m\u001b[0;34m\u001b[0m\u001b[0m\n\u001b[0m\u001b[1;32m    285\u001b[0m \u001b[0;34m\u001b[0m\u001b[0m\n",
      "\u001b[0;32m~/anaconda3/envs/py37/lib/python3.7/site-packages/urllib3/connection.py\u001b[0m in \u001b[0;36m_new_conn\u001b[0;34m(self)\u001b[0m\n\u001b[1;32m    149\u001b[0m             raise NewConnectionError(\n\u001b[0;32m--> 150\u001b[0;31m                 self, \"Failed to establish a new connection: %s\" % e)\n\u001b[0m\u001b[1;32m    151\u001b[0m \u001b[0;34m\u001b[0m\u001b[0m\n",
      "\u001b[0;31mNewConnectionError\u001b[0m: <urllib3.connection.VerifiedHTTPSConnection object at 0x7fd789367f10>: Failed to establish a new connection: [Errno 60] Operation timed out",
      "\nDuring handling of the above exception, another exception occurred:\n",
      "\u001b[0;31mMaxRetryError\u001b[0m                             Traceback (most recent call last)",
      "\u001b[0;32m~/anaconda3/envs/py37/lib/python3.7/site-packages/requests/adapters.py\u001b[0m in \u001b[0;36msend\u001b[0;34m(self, request, stream, timeout, verify, cert, proxies)\u001b[0m\n\u001b[1;32m    439\u001b[0m                     \u001b[0mretries\u001b[0m\u001b[0;34m=\u001b[0m\u001b[0mself\u001b[0m\u001b[0;34m.\u001b[0m\u001b[0mmax_retries\u001b[0m\u001b[0;34m,\u001b[0m\u001b[0;34m\u001b[0m\u001b[0;34m\u001b[0m\u001b[0m\n\u001b[0;32m--> 440\u001b[0;31m                     \u001b[0mtimeout\u001b[0m\u001b[0;34m=\u001b[0m\u001b[0mtimeout\u001b[0m\u001b[0;34m\u001b[0m\u001b[0;34m\u001b[0m\u001b[0m\n\u001b[0m\u001b[1;32m    441\u001b[0m                 )\n",
      "\u001b[0;32m~/anaconda3/envs/py37/lib/python3.7/site-packages/urllib3/connectionpool.py\u001b[0m in \u001b[0;36murlopen\u001b[0;34m(self, method, url, body, headers, retries, redirect, assert_same_host, timeout, pool_timeout, release_conn, chunked, body_pos, **response_kw)\u001b[0m\n\u001b[1;32m    638\u001b[0m             retries = retries.increment(method, url, error=e, _pool=self,\n\u001b[0;32m--> 639\u001b[0;31m                                         _stacktrace=sys.exc_info()[2])\n\u001b[0m\u001b[1;32m    640\u001b[0m             \u001b[0mretries\u001b[0m\u001b[0;34m.\u001b[0m\u001b[0msleep\u001b[0m\u001b[0;34m(\u001b[0m\u001b[0;34m)\u001b[0m\u001b[0;34m\u001b[0m\u001b[0;34m\u001b[0m\u001b[0m\n",
      "\u001b[0;32m~/anaconda3/envs/py37/lib/python3.7/site-packages/urllib3/util/retry.py\u001b[0m in \u001b[0;36mincrement\u001b[0;34m(self, method, url, response, error, _pool, _stacktrace)\u001b[0m\n\u001b[1;32m    387\u001b[0m         \u001b[0;32mif\u001b[0m \u001b[0mnew_retry\u001b[0m\u001b[0;34m.\u001b[0m\u001b[0mis_exhausted\u001b[0m\u001b[0;34m(\u001b[0m\u001b[0;34m)\u001b[0m\u001b[0;34m:\u001b[0m\u001b[0;34m\u001b[0m\u001b[0;34m\u001b[0m\u001b[0m\n\u001b[0;32m--> 388\u001b[0;31m             \u001b[0;32mraise\u001b[0m \u001b[0mMaxRetryError\u001b[0m\u001b[0;34m(\u001b[0m\u001b[0m_pool\u001b[0m\u001b[0;34m,\u001b[0m \u001b[0murl\u001b[0m\u001b[0;34m,\u001b[0m \u001b[0merror\u001b[0m \u001b[0;32mor\u001b[0m \u001b[0mResponseError\u001b[0m\u001b[0;34m(\u001b[0m\u001b[0mcause\u001b[0m\u001b[0;34m)\u001b[0m\u001b[0;34m)\u001b[0m\u001b[0;34m\u001b[0m\u001b[0;34m\u001b[0m\u001b[0m\n\u001b[0m\u001b[1;32m    389\u001b[0m \u001b[0;34m\u001b[0m\u001b[0m\n",
      "\u001b[0;31mMaxRetryError\u001b[0m: HTTPSConnectionPool(host='maps.google.com', port=443): Max retries exceeded with url: /maps/api/geocode/json?address=hangzhou+dianzi+university&sensor=false&bounds=&region=&language=&components= (Caused by NewConnectionError('<urllib3.connection.VerifiedHTTPSConnection object at 0x7fd789367f10>: Failed to establish a new connection: [Errno 60] Operation timed out'))",
      "\nDuring handling of the above exception, another exception occurred:\n",
      "\u001b[0;31mConnectionError\u001b[0m                           Traceback (most recent call last)",
      "\u001b[0;32m<ipython-input-2-040203f50e12>\u001b[0m in \u001b[0;36m<module>\u001b[0;34m\u001b[0m\n\u001b[1;32m      1\u001b[0m \u001b[0maddress\u001b[0m \u001b[0;34m=\u001b[0m \u001b[0;34m'hangzhou dianzi university'\u001b[0m\u001b[0;34m\u001b[0m\u001b[0;34m\u001b[0m\u001b[0m\n\u001b[0;32m----> 2\u001b[0;31m \u001b[0mres\u001b[0m \u001b[0;34m=\u001b[0m \u001b[0mGeocoder\u001b[0m\u001b[0;34m.\u001b[0m\u001b[0mgeocode\u001b[0m\u001b[0;34m(\u001b[0m\u001b[0maddress\u001b[0m\u001b[0;34m)\u001b[0m\u001b[0;34m\u001b[0m\u001b[0;34m\u001b[0m\u001b[0m\n\u001b[0m",
      "\u001b[0;32m~/anaconda3/envs/py37/lib/python3.7/site-packages/pygeocoder.py\u001b[0m in \u001b[0;36mgeocode\u001b[0;34m(self, address, sensor, bounds, region, language, components)\u001b[0m\n\u001b[1;32m    127\u001b[0m             \u001b[0;32mreturn\u001b[0m \u001b[0mGeocoderResult\u001b[0m\u001b[0;34m(\u001b[0m\u001b[0mself\u001b[0m\u001b[0;34m.\u001b[0m\u001b[0mget_data\u001b[0m\u001b[0;34m(\u001b[0m\u001b[0mparams\u001b[0m\u001b[0;34m=\u001b[0m\u001b[0mparams\u001b[0m\u001b[0;34m)\u001b[0m\u001b[0;34m)\u001b[0m\u001b[0;34m\u001b[0m\u001b[0;34m\u001b[0m\u001b[0m\n\u001b[1;32m    128\u001b[0m         \u001b[0;32melse\u001b[0m\u001b[0;34m:\u001b[0m\u001b[0;34m\u001b[0m\u001b[0;34m\u001b[0m\u001b[0m\n\u001b[0;32m--> 129\u001b[0;31m             \u001b[0;32mreturn\u001b[0m \u001b[0mGeocoderResult\u001b[0m\u001b[0;34m(\u001b[0m\u001b[0mGeocoder\u001b[0m\u001b[0;34m.\u001b[0m\u001b[0mget_data\u001b[0m\u001b[0;34m(\u001b[0m\u001b[0mparams\u001b[0m\u001b[0;34m=\u001b[0m\u001b[0mparams\u001b[0m\u001b[0;34m)\u001b[0m\u001b[0;34m)\u001b[0m\u001b[0;34m\u001b[0m\u001b[0;34m\u001b[0m\u001b[0m\n\u001b[0m\u001b[1;32m    130\u001b[0m \u001b[0;34m\u001b[0m\u001b[0m\n\u001b[1;32m    131\u001b[0m     \u001b[0;34m@\u001b[0m\u001b[0momnimethod\u001b[0m\u001b[0;34m\u001b[0m\u001b[0;34m\u001b[0m\u001b[0m\n",
      "\u001b[0;32m~/anaconda3/envs/py37/lib/python3.7/site-packages/pygeocoder.py\u001b[0m in \u001b[0;36mget_data\u001b[0;34m(self, params)\u001b[0m\n\u001b[1;32m    202\u001b[0m             \u001b[0msession\u001b[0m\u001b[0;34m.\u001b[0m\u001b[0mproxies\u001b[0m \u001b[0;34m=\u001b[0m \u001b[0;34m{\u001b[0m\u001b[0;34m'https'\u001b[0m\u001b[0;34m:\u001b[0m \u001b[0mself\u001b[0m\u001b[0;34m.\u001b[0m\u001b[0mproxy\u001b[0m\u001b[0;34m}\u001b[0m\u001b[0;34m\u001b[0m\u001b[0;34m\u001b[0m\u001b[0m\n\u001b[1;32m    203\u001b[0m \u001b[0;34m\u001b[0m\u001b[0m\n\u001b[0;32m--> 204\u001b[0;31m         \u001b[0mresponse\u001b[0m \u001b[0;34m=\u001b[0m \u001b[0msession\u001b[0m\u001b[0;34m.\u001b[0m\u001b[0msend\u001b[0m\u001b[0;34m(\u001b[0m\u001b[0mrequest\u001b[0m\u001b[0;34m.\u001b[0m\u001b[0mprepare\u001b[0m\u001b[0;34m(\u001b[0m\u001b[0;34m)\u001b[0m\u001b[0;34m)\u001b[0m\u001b[0;34m\u001b[0m\u001b[0;34m\u001b[0m\u001b[0m\n\u001b[0m\u001b[1;32m    205\u001b[0m         \u001b[0msession\u001b[0m\u001b[0;34m.\u001b[0m\u001b[0mclose\u001b[0m\u001b[0;34m(\u001b[0m\u001b[0;34m)\u001b[0m\u001b[0;34m\u001b[0m\u001b[0;34m\u001b[0m\u001b[0m\n\u001b[1;32m    206\u001b[0m \u001b[0;34m\u001b[0m\u001b[0m\n",
      "\u001b[0;32m~/anaconda3/envs/py37/lib/python3.7/site-packages/requests/sessions.py\u001b[0m in \u001b[0;36msend\u001b[0;34m(self, request, **kwargs)\u001b[0m\n\u001b[1;32m    616\u001b[0m \u001b[0;34m\u001b[0m\u001b[0m\n\u001b[1;32m    617\u001b[0m         \u001b[0;31m# Send the request\u001b[0m\u001b[0;34m\u001b[0m\u001b[0;34m\u001b[0m\u001b[0;34m\u001b[0m\u001b[0m\n\u001b[0;32m--> 618\u001b[0;31m         \u001b[0mr\u001b[0m \u001b[0;34m=\u001b[0m \u001b[0madapter\u001b[0m\u001b[0;34m.\u001b[0m\u001b[0msend\u001b[0m\u001b[0;34m(\u001b[0m\u001b[0mrequest\u001b[0m\u001b[0;34m,\u001b[0m \u001b[0;34m**\u001b[0m\u001b[0mkwargs\u001b[0m\u001b[0;34m)\u001b[0m\u001b[0;34m\u001b[0m\u001b[0;34m\u001b[0m\u001b[0m\n\u001b[0m\u001b[1;32m    619\u001b[0m \u001b[0;34m\u001b[0m\u001b[0m\n\u001b[1;32m    620\u001b[0m         \u001b[0;31m# Total elapsed time of the request (approximately)\u001b[0m\u001b[0;34m\u001b[0m\u001b[0;34m\u001b[0m\u001b[0;34m\u001b[0m\u001b[0m\n",
      "\u001b[0;32m~/anaconda3/envs/py37/lib/python3.7/site-packages/requests/adapters.py\u001b[0m in \u001b[0;36msend\u001b[0;34m(self, request, stream, timeout, verify, cert, proxies)\u001b[0m\n\u001b[1;32m    506\u001b[0m                 \u001b[0;32mraise\u001b[0m \u001b[0mSSLError\u001b[0m\u001b[0;34m(\u001b[0m\u001b[0me\u001b[0m\u001b[0;34m,\u001b[0m \u001b[0mrequest\u001b[0m\u001b[0;34m=\u001b[0m\u001b[0mrequest\u001b[0m\u001b[0;34m)\u001b[0m\u001b[0;34m\u001b[0m\u001b[0;34m\u001b[0m\u001b[0m\n\u001b[1;32m    507\u001b[0m \u001b[0;34m\u001b[0m\u001b[0m\n\u001b[0;32m--> 508\u001b[0;31m             \u001b[0;32mraise\u001b[0m \u001b[0mConnectionError\u001b[0m\u001b[0;34m(\u001b[0m\u001b[0me\u001b[0m\u001b[0;34m,\u001b[0m \u001b[0mrequest\u001b[0m\u001b[0;34m=\u001b[0m\u001b[0mrequest\u001b[0m\u001b[0;34m)\u001b[0m\u001b[0;34m\u001b[0m\u001b[0;34m\u001b[0m\u001b[0m\n\u001b[0m\u001b[1;32m    509\u001b[0m \u001b[0;34m\u001b[0m\u001b[0m\n\u001b[1;32m    510\u001b[0m         \u001b[0;32mexcept\u001b[0m \u001b[0mClosedPoolError\u001b[0m \u001b[0;32mas\u001b[0m \u001b[0me\u001b[0m\u001b[0;34m:\u001b[0m\u001b[0;34m\u001b[0m\u001b[0;34m\u001b[0m\u001b[0m\n",
      "\u001b[0;31mConnectionError\u001b[0m: HTTPSConnectionPool(host='maps.google.com', port=443): Max retries exceeded with url: /maps/api/geocode/json?address=hangzhou+dianzi+university&sensor=false&bounds=&region=&language=&components= (Caused by NewConnectionError('<urllib3.connection.VerifiedHTTPSConnection object at 0x7fd789367f10>: Failed to establish a new connection: [Errno 60] Operation timed out'))"
     ]
    }
   ],
   "source": [
    "address = 'hangzhou dianzi university'\n",
    "res = Geocoder.geocode(address)"
   ]
  },
  {
   "cell_type": "code",
   "execution_count": null,
   "metadata": {},
   "outputs": [],
   "source": [
    "res[0].formatted_address.split(' ')[0]"
   ]
  },
  {
   "cell_type": "code",
   "execution_count": null,
   "metadata": {},
   "outputs": [],
   "source": [
    "res[0].coordinates"
   ]
  },
  {
   "cell_type": "code",
   "execution_count": null,
   "metadata": {},
   "outputs": [],
   "source": [
    "print(Geocoder.geocode(address)[0].coordinates)"
   ]
  },
  {
   "cell_type": "code",
   "execution_count": null,
   "metadata": {},
   "outputs": [],
   "source": [
    "type(res)"
   ]
  },
  {
   "cell_type": "code",
   "execution_count": null,
   "metadata": {},
   "outputs": [],
   "source": [
    "import pygeolib"
   ]
  },
  {
   "cell_type": "code",
   "execution_count": null,
   "metadata": {},
   "outputs": [],
   "source": [
    "help(pygeolib.GeocoderResult)"
   ]
  },
  {
   "cell_type": "code",
   "execution_count": null,
   "metadata": {},
   "outputs": [],
   "source": [
    "res[0].coordinates"
   ]
  },
  {
   "cell_type": "markdown",
   "metadata": {},
   "source": [
    "## Ex2:使用Requests库获取地点信息"
   ]
  },
  {
   "cell_type": "code",
   "execution_count": null,
   "metadata": {},
   "outputs": [],
   "source": [
    "import requests"
   ]
  },
  {
   "cell_type": "code",
   "execution_count": null,
   "metadata": {},
   "outputs": [],
   "source": [
    "address = 'hangzhou dianzi university'"
   ]
  },
  {
   "cell_type": "code",
   "execution_count": null,
   "metadata": {},
   "outputs": [],
   "source": [
    "parameters = {'address': address, 'sensor': 'false'}"
   ]
  },
  {
   "cell_type": "code",
   "execution_count": null,
   "metadata": {},
   "outputs": [],
   "source": [
    "base = 'http://ditu.google.cn/maps/api/geocode/json'"
   ]
  },
  {
   "cell_type": "code",
   "execution_count": null,
   "metadata": {},
   "outputs": [],
   "source": [
    "response = requests.get(base, params=parameters)"
   ]
  },
  {
   "cell_type": "code",
   "execution_count": null,
   "metadata": {},
   "outputs": [],
   "source": [
    "help(response)"
   ]
  },
  {
   "cell_type": "code",
   "execution_count": null,
   "metadata": {},
   "outputs": [],
   "source": [
    "answer = response.json()"
   ]
  },
  {
   "cell_type": "code",
   "execution_count": null,
   "metadata": {},
   "outputs": [],
   "source": [
    "answer"
   ]
  },
  {
   "cell_type": "code",
   "execution_count": null,
   "metadata": {},
   "outputs": [],
   "source": [
    "answer['results'][0]['geometry']['location']"
   ]
  },
  {
   "cell_type": "code",
   "execution_count": 3,
   "metadata": {},
   "outputs": [],
   "source": [
    "def geocode2(address):\n",
    "    parameters = {'address': address, 'sensor': 'false'}\n",
    "    base = 'http://ditu.google.cn/maps/api/geocode/json'\n",
    "    response = requests.get(base, params=parameters)\n",
    "    answer = response.json()\n",
    "    return answer['results'][0]['geometry']['location']"
   ]
  },
  {
   "cell_type": "code",
   "execution_count": 4,
   "metadata": {},
   "outputs": [
    {
     "ename": "NameError",
     "evalue": "name 'requests' is not defined",
     "output_type": "error",
     "traceback": [
      "\u001b[0;31m---------------------------------------------------------------------------\u001b[0m",
      "\u001b[0;31mNameError\u001b[0m                                 Traceback (most recent call last)",
      "\u001b[0;32m<ipython-input-4-cd913b362905>\u001b[0m in \u001b[0;36m<module>\u001b[0;34m()\u001b[0m\n\u001b[0;32m----> 1\u001b[0;31m \u001b[0mprint\u001b[0m\u001b[0;34m(\u001b[0m\u001b[0mgeocode2\u001b[0m\u001b[0;34m(\u001b[0m\u001b[0;34m'hangzhou dianzi university'\u001b[0m\u001b[0;34m)\u001b[0m\u001b[0;34m)\u001b[0m\u001b[0;34m\u001b[0m\u001b[0m\n\u001b[0m",
      "\u001b[0;32m<ipython-input-3-732d4c90bf09>\u001b[0m in \u001b[0;36mgeocode2\u001b[0;34m(address)\u001b[0m\n\u001b[1;32m      2\u001b[0m     \u001b[0mparameters\u001b[0m \u001b[0;34m=\u001b[0m \u001b[0;34m{\u001b[0m\u001b[0;34m'address'\u001b[0m\u001b[0;34m:\u001b[0m \u001b[0maddress\u001b[0m\u001b[0;34m,\u001b[0m \u001b[0;34m'sensor'\u001b[0m\u001b[0;34m:\u001b[0m \u001b[0;34m'false'\u001b[0m\u001b[0;34m}\u001b[0m\u001b[0;34m\u001b[0m\u001b[0m\n\u001b[1;32m      3\u001b[0m     \u001b[0mbase\u001b[0m \u001b[0;34m=\u001b[0m \u001b[0;34m'http://ditu.google.cn/maps/api/geocode/json'\u001b[0m\u001b[0;34m\u001b[0m\u001b[0m\n\u001b[0;32m----> 4\u001b[0;31m     \u001b[0mresponse\u001b[0m \u001b[0;34m=\u001b[0m \u001b[0mrequests\u001b[0m\u001b[0;34m.\u001b[0m\u001b[0mget\u001b[0m\u001b[0;34m(\u001b[0m\u001b[0mbase\u001b[0m\u001b[0;34m,\u001b[0m \u001b[0mparams\u001b[0m\u001b[0;34m=\u001b[0m\u001b[0mparameters\u001b[0m\u001b[0;34m)\u001b[0m\u001b[0;34m\u001b[0m\u001b[0m\n\u001b[0m\u001b[1;32m      5\u001b[0m     \u001b[0manswer\u001b[0m \u001b[0;34m=\u001b[0m \u001b[0mresponse\u001b[0m\u001b[0;34m.\u001b[0m\u001b[0mjson\u001b[0m\u001b[0;34m(\u001b[0m\u001b[0;34m)\u001b[0m\u001b[0;34m\u001b[0m\u001b[0m\n\u001b[1;32m      6\u001b[0m     \u001b[0;32mreturn\u001b[0m \u001b[0manswer\u001b[0m\u001b[0;34m[\u001b[0m\u001b[0;34m'results'\u001b[0m\u001b[0;34m]\u001b[0m\u001b[0;34m[\u001b[0m\u001b[0;36m0\u001b[0m\u001b[0;34m]\u001b[0m\u001b[0;34m[\u001b[0m\u001b[0;34m'geometry'\u001b[0m\u001b[0;34m]\u001b[0m\u001b[0;34m[\u001b[0m\u001b[0;34m'location'\u001b[0m\u001b[0;34m]\u001b[0m\u001b[0;34m\u001b[0m\u001b[0m\n",
      "\u001b[0;31mNameError\u001b[0m: name 'requests' is not defined"
     ]
    }
   ],
   "source": [
    "print(geocode2('hangzhou dianzi university'))"
   ]
  },
  {
   "cell_type": "code",
   "execution_count": null,
   "metadata": {},
   "outputs": [],
   "source": [
    "print(geocode2('杭州电子科技大学'))"
   ]
  },
  {
   "cell_type": "markdown",
   "metadata": {},
   "source": [
    "## Ex3:使用http.client等库获取地点信息"
   ]
  },
  {
   "cell_type": "code",
   "execution_count": 6,
   "metadata": {},
   "outputs": [],
   "source": [
    "import http.client\n",
    "import json\n",
    "from urllib.parse import quote_plus\n",
    "import urllib"
   ]
  },
  {
   "cell_type": "code",
   "execution_count": 7,
   "metadata": {},
   "outputs": [],
   "source": [
    "address = '杭州电子科技大学下沙校区'\n",
    "base = '/maps/api/geocode/json'"
   ]
  },
  {
   "cell_type": "code",
   "execution_count": 8,
   "metadata": {},
   "outputs": [],
   "source": [
    "path = '{}?address={}&sensor=false'.format(base, quote_plus(address))"
   ]
  },
  {
   "cell_type": "code",
   "execution_count": 42,
   "metadata": {},
   "outputs": [
    {
     "data": {
      "text/plain": [
       "'/maps/api/geocode/json?address=%E6%9D%AD%E5%B7%9E%E7%94%B5%E5%AD%90%E7%A7%91%E6%8A%80%E5%A4%A7%E5%AD%A6%E4%B8%8B%E6%B2%99%E6%A0%A1%E5%8C%BA&sensor=false'"
      ]
     },
     "execution_count": 42,
     "metadata": {},
     "output_type": "execute_result"
    }
   ],
   "source": [
    "path"
   ]
  },
  {
   "cell_type": "code",
   "execution_count": 44,
   "metadata": {},
   "outputs": [
    {
     "data": {
      "text/plain": [
       "'/maps/api/geocode/json?address=杭州电子科技大学下沙校区&sensor=false'"
      ]
     },
     "execution_count": 44,
     "metadata": {},
     "output_type": "execute_result"
    }
   ],
   "source": [
    "urllib.parse.unquote_plus('/maps/api/geocode/json?address=%E6%9D%AD%E5%B7%9E%E7%94%B5%E5%AD%90%E7%A7%91%E6%8A%80%E5%A4%A7%E5%AD%A6%E4%B8%8B%E6%B2%99%E6%A0%A1%E5%8C%BA&sensor=false')"
   ]
  },
  {
   "cell_type": "code",
   "execution_count": 51,
   "metadata": {},
   "outputs": [],
   "source": [
    "connection = http.client.HTTPConnection('ditu.google.cn')\n",
    "connection.request('GET', path)\n",
    "rawreply = connection.getresponse().read()"
   ]
  },
  {
   "cell_type": "code",
   "execution_count": 52,
   "metadata": {
    "scrolled": true
   },
   "outputs": [
    {
     "data": {
      "text/plain": [
       "b'{\\n   \"results\" : [\\n      {\\n         \"address_components\" : [\\n            {\\n               \"long_name\" : \"\\xe5\\xad\\xa6\\xe6\\x9e\\x97\\xe8\\xa1\\x97\",\\n               \"short_name\" : \"\\xe5\\xad\\xa6\\xe6\\x9e\\x97\\xe8\\xa1\\x97\",\\n               \"types\" : [ \"route\" ]\\n            },\\n            {\\n               \"long_name\" : \"\\xe6\\xb1\\x9f\\xe5\\xb9\\xb2\\xe5\\x8c\\xba\",\\n               \"short_name\" : \"\\xe6\\xb1\\x9f\\xe5\\xb9\\xb2\\xe5\\x8c\\xba\",\\n               \"types\" : [ \"political\", \"sublocality\", \"sublocality_level_1\" ]\\n            },\\n            {\\n               \"long_name\" : \"\\xe6\\x9d\\xad\\xe5\\xb7\\x9e\\xe5\\xb8\\x82\",\\n               \"short_name\" : \"\\xe6\\x9d\\xad\\xe5\\xb7\\x9e\\xe5\\xb8\\x82\",\\n               \"types\" : [ \"locality\", \"political\" ]\\n            },\\n            {\\n               \"long_name\" : \"\\xe6\\xb5\\x99\\xe6\\xb1\\x9f\\xe7\\x9c\\x81\",\\n               \"short_name\" : \"\\xe6\\xb5\\x99\\xe6\\xb1\\x9f\\xe7\\x9c\\x81\",\\n               \"types\" : [ \"administrative_area_level_1\", \"political\" ]\\n            },\\n            {\\n               \"long_name\" : \"\\xe4\\xb8\\xad\\xe5\\x9b\\xbd\",\\n               \"short_name\" : \"CN\",\\n               \"types\" : [ \"country\", \"political\" ]\\n            }\\n         ],\\n         \"formatted_address\" : \"\\xe4\\xb8\\xad\\xe5\\x9b\\xbd\\xe6\\xb5\\x99\\xe6\\xb1\\x9f\\xe7\\x9c\\x81\\xe6\\x9d\\xad\\xe5\\xb7\\x9e\\xe5\\xb8\\x82\\xe6\\xb1\\x9f\\xe5\\xb9\\xb2\\xe5\\x8c\\xba\\xe5\\xad\\xa6\\xe6\\x9e\\x97\\xe8\\xa1\\x97\\xe4\\xb8\\x8b\\xe6\\xb2\\x99\\xe9\\xab\\x98\\xe6\\x95\\x99\\xe5\\x9b\\xad\\xe5\\x8c\\xba\",\\n         \"geometry\" : {\\n            \"location\" : {\\n               \"lat\" : 30.3156,\\n               \"lng\" : 120.341198\\n            },\\n            \"location_type\" : \"GEOMETRIC_CENTER\",\\n            \"viewport\" : {\\n               \"northeast\" : {\\n                  \"lat\" : 30.3169489802915,\\n                  \"lng\" : 120.3425469802915\\n               },\\n               \"southwest\" : {\\n                  \"lat\" : 30.3142510197085,\\n                  \"lng\" : 120.3398490197085\\n               }\\n            }\\n         },\\n         \"place_id\" : \"ChIJFVuqXSiYTDQRjVKOcpID8Is\",\\n         \"plus_code\" : {\\n            \"compound_code\" : \"888R+6F \\xe4\\xb8\\xad\\xe5\\x9b\\xbd\\xe6\\xb5\\x99\\xe6\\xb1\\x9f\\xe7\\x9c\\x81\\xe6\\x9d\\xad\\xe5\\xb7\\x9e\\xe5\\xb8\\x82\\xe6\\xb1\\x9f\\xe5\\xb9\\xb2\\xe5\\x8c\\xba\",\\n            \"global_code\" : \"8Q22888R+6F\"\\n         },\\n         \"types\" : [ \"establishment\", \"point_of_interest\", \"university\" ]\\n      }\\n   ],\\n   \"status\" : \"OK\"\\n}\\n'"
      ]
     },
     "execution_count": 52,
     "metadata": {},
     "output_type": "execute_result"
    }
   ],
   "source": [
    "rawreply"
   ]
  },
  {
   "cell_type": "code",
   "execution_count": 53,
   "metadata": {},
   "outputs": [
    {
     "data": {
      "text/plain": [
       "'{\\n   \"results\" : [\\n      {\\n         \"address_components\" : [\\n            {\\n               \"long_name\" : \"学林街\",\\n               \"short_name\" : \"学林街\",\\n               \"types\" : [ \"route\" ]\\n            },\\n            {\\n               \"long_name\" : \"江干区\",\\n               \"short_name\" : \"江干区\",\\n               \"types\" : [ \"political\", \"sublocality\", \"sublocality_level_1\" ]\\n            },\\n            {\\n               \"long_name\" : \"杭州市\",\\n               \"short_name\" : \"杭州市\",\\n               \"types\" : [ \"locality\", \"political\" ]\\n            },\\n            {\\n               \"long_name\" : \"浙江省\",\\n               \"short_name\" : \"浙江省\",\\n               \"types\" : [ \"administrative_area_level_1\", \"political\" ]\\n            },\\n            {\\n               \"long_name\" : \"中国\",\\n               \"short_name\" : \"CN\",\\n               \"types\" : [ \"country\", \"political\" ]\\n            }\\n         ],\\n         \"formatted_address\" : \"中国浙江省杭州市江干区学林街下沙高教园区\",\\n         \"geometry\" : {\\n            \"location\" : {\\n               \"lat\" : 30.3156,\\n               \"lng\" : 120.341198\\n            },\\n            \"location_type\" : \"GEOMETRIC_CENTER\",\\n            \"viewport\" : {\\n               \"northeast\" : {\\n                  \"lat\" : 30.3169489802915,\\n                  \"lng\" : 120.3425469802915\\n               },\\n               \"southwest\" : {\\n                  \"lat\" : 30.3142510197085,\\n                  \"lng\" : 120.3398490197085\\n               }\\n            }\\n         },\\n         \"place_id\" : \"ChIJFVuqXSiYTDQRjVKOcpID8Is\",\\n         \"plus_code\" : {\\n            \"compound_code\" : \"888R+6F 中国浙江省杭州市江干区\",\\n            \"global_code\" : \"8Q22888R+6F\"\\n         },\\n         \"types\" : [ \"establishment\", \"point_of_interest\", \"university\" ]\\n      }\\n   ],\\n   \"status\" : \"OK\"\\n}\\n'"
      ]
     },
     "execution_count": 53,
     "metadata": {},
     "output_type": "execute_result"
    }
   ],
   "source": [
    "rawreply.decode('utf-8')"
   ]
  },
  {
   "cell_type": "code",
   "execution_count": 54,
   "metadata": {},
   "outputs": [],
   "source": [
    "reply = json.loads(rawreply.decode('utf-8'))"
   ]
  },
  {
   "cell_type": "code",
   "execution_count": 57,
   "metadata": {
    "scrolled": false
   },
   "outputs": [
    {
     "data": {
      "text/plain": [
       "{'results': [{'address_components': [{'long_name': '学林街',\n",
       "     'short_name': '学林街',\n",
       "     'types': ['route']},\n",
       "    {'long_name': '江干区',\n",
       "     'short_name': '江干区',\n",
       "     'types': ['political', 'sublocality', 'sublocality_level_1']},\n",
       "    {'long_name': '杭州市',\n",
       "     'short_name': '杭州市',\n",
       "     'types': ['locality', 'political']},\n",
       "    {'long_name': '浙江省',\n",
       "     'short_name': '浙江省',\n",
       "     'types': ['administrative_area_level_1', 'political']},\n",
       "    {'long_name': '中国',\n",
       "     'short_name': 'CN',\n",
       "     'types': ['country', 'political']}],\n",
       "   'formatted_address': '中国浙江省杭州市江干区学林街下沙高教园区',\n",
       "   'geometry': {'location': {'lat': 30.3156, 'lng': 120.341198},\n",
       "    'location_type': 'GEOMETRIC_CENTER',\n",
       "    'viewport': {'northeast': {'lat': 30.3169489802915,\n",
       "      'lng': 120.3425469802915},\n",
       "     'southwest': {'lat': 30.3142510197085, 'lng': 120.3398490197085}}},\n",
       "   'place_id': 'ChIJFVuqXSiYTDQRjVKOcpID8Is',\n",
       "   'plus_code': {'compound_code': '888R+6F 中国浙江省杭州市江干区',\n",
       "    'global_code': '8Q22888R+6F'},\n",
       "   'types': ['establishment', 'point_of_interest', 'university']}],\n",
       " 'status': 'OK'}"
      ]
     },
     "execution_count": 57,
     "metadata": {},
     "output_type": "execute_result"
    }
   ],
   "source": [
    "reply"
   ]
  },
  {
   "cell_type": "code",
   "execution_count": 58,
   "metadata": {},
   "outputs": [
    {
     "data": {
      "text/plain": [
       "{'lat': 30.3156, 'lng': 120.341198}"
      ]
     },
     "execution_count": 58,
     "metadata": {},
     "output_type": "execute_result"
    }
   ],
   "source": [
    "reply['results'][0]['geometry']['location']"
   ]
  },
  {
   "cell_type": "code",
   "execution_count": 112,
   "metadata": {},
   "outputs": [],
   "source": [
    "base = '/maps/api/geocode/json'\n",
    "def geocode3(address):\n",
    "    path = '{}?address={}&sensor=false'.format(base, quote_plus(address))\n",
    "    connection = http.client.HTTPConnection('ditu.google.cn')\n",
    "    connection.request('GET', path)\n",
    "    rawreply = connection.getresponse().read()\n",
    "    reply = json.loads(rawreply.decode('utf-8'))\n",
    "    return reply['results'][0]['geometry']['location']"
   ]
  },
  {
   "cell_type": "code",
   "execution_count": 117,
   "metadata": {},
   "outputs": [
    {
     "data": {
      "text/plain": [
       "{'lat': 30.3156, 'lng': 120.341198}"
      ]
     },
     "execution_count": 117,
     "metadata": {},
     "output_type": "execute_result"
    }
   ],
   "source": [
    "geocode3('杭州电子科技大学下沙校区')"
   ]
  },
  {
   "cell_type": "markdown",
   "metadata": {},
   "source": [
    "## Ex4:直接使用socket与谷歌通信"
   ]
  },
  {
   "cell_type": "code",
   "execution_count": 67,
   "metadata": {},
   "outputs": [],
   "source": [
    "import socket\n",
    "import json\n",
    "from urllib.parse import quote_plus"
   ]
  },
  {
   "cell_type": "code",
   "execution_count": 71,
   "metadata": {},
   "outputs": [],
   "source": [
    "request_text = \"\"\"\\\n",
    "GET /maps/api/geocode/json?address={}&sensor=false HTTP/1.1\\r\\n\\\n",
    "Host: ditu.google.cn:80\\r\\n\\\n",
    "User-Agent: HDU Network Programming Class\\r\\n\\\n",
    "Connection: close\\r\\n\\\n",
    "\\r\\n\\\n",
    "\"\"\""
   ]
  },
  {
   "cell_type": "code",
   "execution_count": 72,
   "metadata": {},
   "outputs": [],
   "source": [
    "address = '杭州电子科技大学下沙校区'"
   ]
  },
  {
   "cell_type": "code",
   "execution_count": 73,
   "metadata": {},
   "outputs": [
    {
     "data": {
      "text/plain": [
       "'GET /maps/api/geocode/json?address=%E6%9D%AD%E5%B7%9E%E7%94%B5%E5%AD%90%E7%A7%91%E6%8A%80%E5%A4%A7%E5%AD%A6%E4%B8%8B%E6%B2%99%E6%A0%A1%E5%8C%BA&sensor=false HTTP/1.1\\r\\nHost: ditu.google.cn:80\\r\\nUser-Agent: HDU Network Programming Class\\r\\nConnection: close\\r\\n\\r\\n'"
      ]
     },
     "execution_count": 73,
     "metadata": {},
     "output_type": "execute_result"
    }
   ],
   "source": [
    "request = request_text.format(quote_plus(address))\n",
    "request"
   ]
  },
  {
   "cell_type": "code",
   "execution_count": 92,
   "metadata": {},
   "outputs": [],
   "source": [
    "sock = socket.socket()\n",
    "sock.connect(('ditu.google.cn', 80))\n",
    "sock.sendall(request.encode('ascii'))"
   ]
  },
  {
   "cell_type": "code",
   "execution_count": 93,
   "metadata": {},
   "outputs": [],
   "source": [
    "raw_reply = b''\n",
    "while True:\n",
    "    more = sock.recv(4096)\n",
    "    if not more:\n",
    "        break\n",
    "    raw_reply += more\n",
    "sock.close()"
   ]
  },
  {
   "cell_type": "code",
   "execution_count": 94,
   "metadata": {},
   "outputs": [
    {
     "data": {
      "text/plain": [
       "'HTTP/1.1 200 OK\\r\\nContent-Type: application/json; charset=UTF-8\\r\\nDate: Sun, 16 Sep 2018 15:04:52 GMT\\r\\nExpires: Mon, 17 Sep 2018 15:04:52 GMT\\r\\nCache-Control: public, max-age=86400\\r\\nAccess-Control-Allow-Origin: *\\r\\nServer: mafe\\r\\nX-XSS-Protection: 1; mode=block\\r\\nX-Frame-Options: SAMEORIGIN\\r\\nAccept-Ranges: none\\r\\nVary: Accept-Language,Accept-Encoding\\r\\nServer-Timing: gfet4t7; dur=584\\r\\nConnection: close\\r\\n\\r\\n{\\n   \"results\" : [\\n      {\\n         \"address_components\" : [\\n            {\\n               \"long_name\" : \"学林街\",\\n               \"short_name\" : \"学林街\",\\n               \"types\" : [ \"route\" ]\\n            },\\n            {\\n               \"long_name\" : \"江干区\",\\n               \"short_name\" : \"江干区\",\\n               \"types\" : [ \"political\", \"sublocality\", \"sublocality_level_1\" ]\\n            },\\n            {\\n               \"long_name\" : \"杭州市\",\\n               \"short_name\" : \"杭州市\",\\n               \"types\" : [ \"locality\", \"political\" ]\\n            },\\n            {\\n               \"long_name\" : \"浙江省\",\\n               \"short_name\" : \"浙江省\",\\n               \"types\" : [ \"administrative_area_level_1\", \"political\" ]\\n            },\\n            {\\n               \"long_name\" : \"中国\",\\n               \"short_name\" : \"CN\",\\n               \"types\" : [ \"country\", \"political\" ]\\n            }\\n         ],\\n         \"formatted_address\" : \"中国浙江省杭州市江干区学林街下沙高教园区\",\\n         \"geometry\" : {\\n            \"location\" : {\\n               \"lat\" : 30.3156,\\n               \"lng\" : 120.341198\\n            },\\n            \"location_type\" : \"GEOMETRIC_CENTER\",\\n            \"viewport\" : {\\n               \"northeast\" : {\\n                  \"lat\" : 30.3169489802915,\\n                  \"lng\" : 120.3425469802915\\n               },\\n               \"southwest\" : {\\n                  \"lat\" : 30.3142510197085,\\n                  \"lng\" : 120.3398490197085\\n               }\\n            }\\n         },\\n         \"place_id\" : \"ChIJFVuqXSiYTDQRjVKOcpID8Is\",\\n         \"plus_code\" : {\\n            \"compound_code\" : \"888R+6F 中国浙江省杭州市江干区\",\\n            \"global_code\" : \"8Q22888R+6F\"\\n         },\\n         \"types\" : [ \"establishment\", \"point_of_interest\", \"university\" ]\\n      }\\n   ],\\n   \"status\" : \"OK\"\\n}\\n'"
      ]
     },
     "execution_count": 94,
     "metadata": {},
     "output_type": "execute_result"
    }
   ],
   "source": [
    "raw_reply.decode('utf-8')"
   ]
  },
  {
   "cell_type": "code",
   "execution_count": 95,
   "metadata": {},
   "outputs": [],
   "source": [
    "reply = raw_reply.decode('utf-8')"
   ]
  },
  {
   "cell_type": "code",
   "execution_count": 97,
   "metadata": {},
   "outputs": [],
   "source": [
    "reply_arr = reply.split(\"\\r\\n\\r\\n\")"
   ]
  },
  {
   "cell_type": "code",
   "execution_count": 98,
   "metadata": {},
   "outputs": [
    {
     "data": {
      "text/plain": [
       "'HTTP/1.1 200 OK\\r\\nContent-Type: application/json; charset=UTF-8\\r\\nDate: Sun, 16 Sep 2018 15:04:52 GMT\\r\\nExpires: Mon, 17 Sep 2018 15:04:52 GMT\\r\\nCache-Control: public, max-age=86400\\r\\nAccess-Control-Allow-Origin: *\\r\\nServer: mafe\\r\\nX-XSS-Protection: 1; mode=block\\r\\nX-Frame-Options: SAMEORIGIN\\r\\nAccept-Ranges: none\\r\\nVary: Accept-Language,Accept-Encoding\\r\\nServer-Timing: gfet4t7; dur=584\\r\\nConnection: close'"
      ]
     },
     "execution_count": 98,
     "metadata": {},
     "output_type": "execute_result"
    }
   ],
   "source": [
    "reply_arr[0]"
   ]
  },
  {
   "cell_type": "code",
   "execution_count": 99,
   "metadata": {},
   "outputs": [
    {
     "data": {
      "text/plain": [
       "'{\\n   \"results\" : [\\n      {\\n         \"address_components\" : [\\n            {\\n               \"long_name\" : \"学林街\",\\n               \"short_name\" : \"学林街\",\\n               \"types\" : [ \"route\" ]\\n            },\\n            {\\n               \"long_name\" : \"江干区\",\\n               \"short_name\" : \"江干区\",\\n               \"types\" : [ \"political\", \"sublocality\", \"sublocality_level_1\" ]\\n            },\\n            {\\n               \"long_name\" : \"杭州市\",\\n               \"short_name\" : \"杭州市\",\\n               \"types\" : [ \"locality\", \"political\" ]\\n            },\\n            {\\n               \"long_name\" : \"浙江省\",\\n               \"short_name\" : \"浙江省\",\\n               \"types\" : [ \"administrative_area_level_1\", \"political\" ]\\n            },\\n            {\\n               \"long_name\" : \"中国\",\\n               \"short_name\" : \"CN\",\\n               \"types\" : [ \"country\", \"political\" ]\\n            }\\n         ],\\n         \"formatted_address\" : \"中国浙江省杭州市江干区学林街下沙高教园区\",\\n         \"geometry\" : {\\n            \"location\" : {\\n               \"lat\" : 30.3156,\\n               \"lng\" : 120.341198\\n            },\\n            \"location_type\" : \"GEOMETRIC_CENTER\",\\n            \"viewport\" : {\\n               \"northeast\" : {\\n                  \"lat\" : 30.3169489802915,\\n                  \"lng\" : 120.3425469802915\\n               },\\n               \"southwest\" : {\\n                  \"lat\" : 30.3142510197085,\\n                  \"lng\" : 120.3398490197085\\n               }\\n            }\\n         },\\n         \"place_id\" : \"ChIJFVuqXSiYTDQRjVKOcpID8Is\",\\n         \"plus_code\" : {\\n            \"compound_code\" : \"888R+6F 中国浙江省杭州市江干区\",\\n            \"global_code\" : \"8Q22888R+6F\"\\n         },\\n         \"types\" : [ \"establishment\", \"point_of_interest\", \"university\" ]\\n      }\\n   ],\\n   \"status\" : \"OK\"\\n}\\n'"
      ]
     },
     "execution_count": 99,
     "metadata": {},
     "output_type": "execute_result"
    }
   ],
   "source": [
    "reply_arr[1]"
   ]
  },
  {
   "cell_type": "code",
   "execution_count": 101,
   "metadata": {},
   "outputs": [
    {
     "data": {
      "text/plain": [
       "{'results': [{'address_components': [{'long_name': '学林街',\n",
       "     'short_name': '学林街',\n",
       "     'types': ['route']},\n",
       "    {'long_name': '江干区',\n",
       "     'short_name': '江干区',\n",
       "     'types': ['political', 'sublocality', 'sublocality_level_1']},\n",
       "    {'long_name': '杭州市',\n",
       "     'short_name': '杭州市',\n",
       "     'types': ['locality', 'political']},\n",
       "    {'long_name': '浙江省',\n",
       "     'short_name': '浙江省',\n",
       "     'types': ['administrative_area_level_1', 'political']},\n",
       "    {'long_name': '中国',\n",
       "     'short_name': 'CN',\n",
       "     'types': ['country', 'political']}],\n",
       "   'formatted_address': '中国浙江省杭州市江干区学林街下沙高教园区',\n",
       "   'geometry': {'location': {'lat': 30.3156, 'lng': 120.341198},\n",
       "    'location_type': 'GEOMETRIC_CENTER',\n",
       "    'viewport': {'northeast': {'lat': 30.3169489802915,\n",
       "      'lng': 120.3425469802915},\n",
       "     'southwest': {'lat': 30.3142510197085, 'lng': 120.3398490197085}}},\n",
       "   'place_id': 'ChIJFVuqXSiYTDQRjVKOcpID8Is',\n",
       "   'plus_code': {'compound_code': '888R+6F 中国浙江省杭州市江干区',\n",
       "    'global_code': '8Q22888R+6F'},\n",
       "   'types': ['establishment', 'point_of_interest', 'university']}],\n",
       " 'status': 'OK'}"
      ]
     },
     "execution_count": 101,
     "metadata": {},
     "output_type": "execute_result"
    }
   ],
   "source": [
    "json_res = json.loads(reply_arr[1])\n",
    "json_res"
   ]
  },
  {
   "cell_type": "code",
   "execution_count": 102,
   "metadata": {},
   "outputs": [
    {
     "data": {
      "text/plain": [
       "{'lat': 30.3156, 'lng': 120.341198}"
      ]
     },
     "execution_count": 102,
     "metadata": {},
     "output_type": "execute_result"
    }
   ],
   "source": [
    "json_res['results'][0]['geometry']['location']"
   ]
  },
  {
   "cell_type": "code",
   "execution_count": 118,
   "metadata": {},
   "outputs": [],
   "source": [
    "def geocode4(address):\n",
    "    sock = socket.socket()\n",
    "    sock.connect(('ditu.google.cn', 80))\n",
    "    request = request_text.format(quote_plus(address))\n",
    "    sock.sendall(request.encode('ascii'))\n",
    "    raw_reply = b''\n",
    "    while True:\n",
    "        more = sock.recv(4096)\n",
    "        if not more:\n",
    "            break\n",
    "        raw_reply += more\n",
    "    sock.close()\n",
    "    reply = raw_reply.decode('utf-8')\n",
    "    reply_arr = reply.split(\"\\r\\n\\r\\n\")\n",
    "    json_res = json.loads(reply_arr[1])\n",
    "    return json_res['results'][0]['geometry']['location']"
   ]
  },
  {
   "cell_type": "code",
   "execution_count": 119,
   "metadata": {},
   "outputs": [
    {
     "data": {
      "text/plain": [
       "{'lat': 39.9087202, 'lng': 116.3974799}"
      ]
     },
     "execution_count": 119,
     "metadata": {},
     "output_type": "execute_result"
    }
   ],
   "source": [
    "geocode4('北京天安门')"
   ]
  },
  {
   "cell_type": "markdown",
   "metadata": {},
   "source": [
    "## 1.6 编码与解码"
   ]
  },
  {
   "cell_type": "code",
   "execution_count": 1,
   "metadata": {},
   "outputs": [
    {
     "data": {
      "text/plain": [
       "bytes"
      ]
     },
     "execution_count": 1,
     "metadata": {},
     "output_type": "execute_result"
    }
   ],
   "source": [
    "type(b'')"
   ]
  },
  {
   "cell_type": "code",
   "execution_count": 2,
   "metadata": {},
   "outputs": [
    {
     "data": {
      "text/plain": [
       "str"
      ]
     },
     "execution_count": 2,
     "metadata": {},
     "output_type": "execute_result"
    }
   ],
   "source": [
    "type('')"
   ]
  },
  {
   "cell_type": "code",
   "execution_count": 5,
   "metadata": {},
   "outputs": [
    {
     "data": {
      "text/plain": [
       "b'\\xe4\\xb8\\xad\\xe5\\x9b\\xbd'"
      ]
     },
     "execution_count": 5,
     "metadata": {},
     "output_type": "execute_result"
    }
   ],
   "source": [
    "\"中国\".encode(\"utf-8\")"
   ]
  },
  {
   "cell_type": "code",
   "execution_count": 6,
   "metadata": {},
   "outputs": [
    {
     "data": {
      "text/plain": [
       "b'\\xd6\\xd0\\xb9\\xfa'"
      ]
     },
     "execution_count": 6,
     "metadata": {},
     "output_type": "execute_result"
    }
   ],
   "source": [
    "\"中国\".encode(\"gbk\")"
   ]
  },
  {
   "cell_type": "code",
   "execution_count": 154,
   "metadata": {},
   "outputs": [
    {
     "data": {
      "text/plain": [
       "b'\\xff\\xfe-N\\xfdVa\\x00b\\x00c\\x00'"
      ]
     },
     "execution_count": 154,
     "metadata": {},
     "output_type": "execute_result"
    }
   ],
   "source": [
    "\"中国abc\".encode(\"utf_16\")"
   ]
  },
  {
   "cell_type": "code",
   "execution_count": 135,
   "metadata": {},
   "outputs": [
    {
     "data": {
      "text/plain": [
       "'中国abc'"
      ]
     },
     "execution_count": 135,
     "metadata": {},
     "output_type": "execute_result"
    }
   ],
   "source": [
    "b'\\xe4\\xb8\\xad\\xe5\\x9b\\xbdabc'.decode(\"utf-8\")"
   ]
  },
  {
   "cell_type": "code",
   "execution_count": 147,
   "metadata": {},
   "outputs": [
    {
     "data": {
      "text/plain": [
       "(b'\\xc4\\xe3\\xba\\xc3\\xa3\\xa1\\r\\nThis is a test!', '你好！\\r\\nThis is a test!')"
      ]
     },
     "execution_count": 147,
     "metadata": {},
     "output_type": "execute_result"
    }
   ],
   "source": [
    "txtfile = open(\"sometext.gbk.txt\", 'rb')\n",
    "txt = txtfile.read()\n",
    "txtfile.close()\n",
    "txt, txt.decode(\"gbk\")"
   ]
  },
  {
   "cell_type": "code",
   "execution_count": 148,
   "metadata": {},
   "outputs": [
    {
     "data": {
      "text/plain": [
       "(b'\\xe4\\xbd\\xa0\\xe5\\xa5\\xbd\\xef\\xbc\\x81\\r\\nThis is a test!',\n",
       " '你好！\\r\\nThis is a test!')"
      ]
     },
     "execution_count": 148,
     "metadata": {},
     "output_type": "execute_result"
    }
   ],
   "source": [
    "txtfile = open(\"sometext.utf-8.txt\", 'rb')\n",
    "txt = txtfile.read()\n",
    "txtfile.close()\n",
    "txt, txt.decode(\"utf-8\")"
   ]
  },
  {
   "cell_type": "code",
   "execution_count": 155,
   "metadata": {},
   "outputs": [
    {
     "data": {
      "text/plain": [
       "(b'\\xff\\xfe`O}Y\\x01\\xff\\r\\x00\\n\\x00T\\x00h\\x00i\\x00s\\x00 \\x00i\\x00s\\x00 \\x00a\\x00 \\x00t\\x00e\\x00s\\x00t\\x00!\\x00',\n",
       " '你好！\\r\\nThis is a test!')"
      ]
     },
     "execution_count": 155,
     "metadata": {},
     "output_type": "execute_result"
    }
   ],
   "source": [
    "txtfile = open(\"sometext.unicode.txt\", 'rb')\n",
    "txt = txtfile.read()\n",
    "txtfile.close()\n",
    "txt,txt.decode(\"utf_16\")"
   ]
  },
  {
   "cell_type": "markdown",
   "metadata": {},
   "source": [
    "## 1.7 IP地址与域名"
   ]
  },
  {
   "cell_type": "code",
   "execution_count": 2,
   "metadata": {},
   "outputs": [],
   "source": [
    "import socket"
   ]
  },
  {
   "cell_type": "code",
   "execution_count": 4,
   "metadata": {},
   "outputs": [
    {
     "data": {
      "text/plain": [
       "'112.80.248.75'"
      ]
     },
     "execution_count": 4,
     "metadata": {},
     "output_type": "execute_result"
    }
   ],
   "source": [
    "socket.gethostbyname('www.baidu.cn')"
   ]
  },
  {
   "cell_type": "code",
   "execution_count": 6,
   "metadata": {},
   "outputs": [
    {
     "data": {
      "text/plain": [
       "('www.a.shifen.com', ['www.baidu.cn'], ['112.80.248.76', '112.80.248.75'])"
      ]
     },
     "execution_count": 6,
     "metadata": {},
     "output_type": "execute_result"
    }
   ],
   "source": [
    "socket.gethostbyname_ex('www.baidu.cn')"
   ]
  },
  {
   "cell_type": "code",
   "execution_count": null,
   "metadata": {},
   "outputs": [],
   "source": []
  }
 ],
 "metadata": {
  "kernelspec": {
   "display_name": "Python 3",
   "language": "python",
   "name": "python3"
  },
  "language_info": {
   "codemirror_mode": {
    "name": "ipython",
    "version": 3
   },
   "file_extension": ".py",
   "mimetype": "text/x-python",
   "name": "python",
   "nbconvert_exporter": "python",
   "pygments_lexer": "ipython3",
   "version": "3.7.4"
  },
  "toc": {
   "base_numbering": 1,
   "nav_menu": {},
   "number_sections": true,
   "sideBar": true,
   "skip_h1_title": false,
   "title_cell": "Table of Contents",
   "title_sidebar": "Contents",
   "toc_cell": false,
   "toc_position": {},
   "toc_section_display": true,
   "toc_window_display": false
  }
 },
 "nbformat": 4,
 "nbformat_minor": 2
}
